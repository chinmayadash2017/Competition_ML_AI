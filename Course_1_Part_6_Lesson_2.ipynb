{
  "nbformat": 4,
  "nbformat_minor": 0,
  "metadata": {
    "colab": {
      "name": "Course 1 - Part 6 - Lesson 2.ipynb",
      "provenance": [],
      "authorship_tag": "ABX9TyPWSR8C2If72Hn/+3v5nYVF",
      "include_colab_link": true
    },
    "kernelspec": {
      "name": "python3",
      "display_name": "Python 3"
    },
    "accelerator": "GPU"
  },
  "cells": [
    {
      "cell_type": "markdown",
      "metadata": {
        "id": "view-in-github",
        "colab_type": "text"
      },
      "source": [
        "<a href=\"https://colab.research.google.com/github/chinmayadash2017/Competition_ML_AI/blob/master/Course_1_Part_6_Lesson_2.ipynb\" target=\"_parent\"><img src=\"https://colab.research.google.com/assets/colab-badge.svg\" alt=\"Open In Colab\"/></a>"
      ]
    },
    {
      "cell_type": "code",
      "metadata": {
        "id": "Hg3OTV4c9jxx"
      },
      "source": [
        "import numpy as np\n",
        "import tensorflow as tf\n",
        "import matplotlib.pyplot as plt\n"
      ],
      "execution_count": 22,
      "outputs": []
    },
    {
      "cell_type": "markdown",
      "metadata": {
        "id": "TDmWPcTq-hdV"
      },
      "source": [
        "##### Improving Computer Vision Accuracy using Convolutions\n"
      ]
    },
    {
      "cell_type": "code",
      "metadata": {
        "id": "d5JIBfvS-id4"
      },
      "source": [
        "mnist = tf.keras.datasets.fashion_mnist\n",
        "(training_images, training_labels), (test_images, test_labels) = mnist.load_data()"
      ],
      "execution_count": 23,
      "outputs": []
    },
    {
      "cell_type": "code",
      "metadata": {
        "id": "P3uIsw4M-4gB"
      },
      "source": [
        "training_images = training_images.reshape(60000,28,28,1)\n",
        "training_images = training_images /255\n",
        "test_images = test_images.reshape(10000,28,28,1)\n",
        "test_images = test_images / 255"
      ],
      "execution_count": 24,
      "outputs": []
    },
    {
      "cell_type": "code",
      "metadata": {
        "id": "nttibPVq1Y0E"
      },
      "source": [
        "class myCallback(tf.keras.callbacks.Callback):\n",
        "  def on_epoch_end(self, epoch, logs={}):\n",
        "    if(logs.get('accuracy')>0.95):\n",
        "      print(\"\\nReached 95% accuracy so cancelling training!\")\n",
        "      self.model.stop_training = True\n",
        "callbacks = myCallback()"
      ],
      "execution_count": 30,
      "outputs": []
    },
    {
      "cell_type": "code",
      "metadata": {
        "id": "Y8am04lT_XMT"
      },
      "source": [
        "model = tf.keras.Sequential()\n",
        "model.add(tf.keras.layers.Conv2D(64, (3,3), activation = 'relu', input_shape = (28,28,1)))\n",
        "model.add(tf.keras.layers.MaxPool2D(2,2))\n",
        "model.add(tf.keras.layers.Conv2D(64, (3,3), activation = 'relu'))\n",
        "model.add(tf.keras.layers.MaxPool2D(2,2))\n",
        "model.add(tf.keras.layers.Flatten())\n",
        "model.add(tf.keras.layers.Dense(128, activation = 'relu'))\n",
        "model.add(tf.keras.layers.Dense(10, activation = 'softmax'))"
      ],
      "execution_count": 31,
      "outputs": []
    },
    {
      "cell_type": "code",
      "metadata": {
        "id": "Woxkbb5YQlXT"
      },
      "source": [
        "model.compile(optimizer = 'adam', loss='sparse_categorical_crossentropy', metrics=['accuracy'])"
      ],
      "execution_count": 32,
      "outputs": []
    },
    {
      "cell_type": "code",
      "metadata": {
        "id": "sWESvKTXOjV1",
        "outputId": "8545d8d7-556e-47ec-8a0a-e7f82b8048b5",
        "colab": {
          "base_uri": "https://localhost:8080/"
        }
      },
      "source": [
        "model.summary()"
      ],
      "execution_count": 33,
      "outputs": [
        {
          "output_type": "stream",
          "text": [
            "Model: \"sequential_2\"\n",
            "_________________________________________________________________\n",
            "Layer (type)                 Output Shape              Param #   \n",
            "=================================================================\n",
            "conv2d_4 (Conv2D)            (None, 26, 26, 64)        640       \n",
            "_________________________________________________________________\n",
            "max_pooling2d_4 (MaxPooling2 (None, 13, 13, 64)        0         \n",
            "_________________________________________________________________\n",
            "conv2d_5 (Conv2D)            (None, 11, 11, 64)        36928     \n",
            "_________________________________________________________________\n",
            "max_pooling2d_5 (MaxPooling2 (None, 5, 5, 64)          0         \n",
            "_________________________________________________________________\n",
            "flatten_2 (Flatten)          (None, 1600)              0         \n",
            "_________________________________________________________________\n",
            "dense_4 (Dense)              (None, 128)               204928    \n",
            "_________________________________________________________________\n",
            "dense_5 (Dense)              (None, 10)                1290      \n",
            "=================================================================\n",
            "Total params: 243,786\n",
            "Trainable params: 243,786\n",
            "Non-trainable params: 0\n",
            "_________________________________________________________________\n"
          ],
          "name": "stdout"
        }
      ]
    },
    {
      "cell_type": "code",
      "metadata": {
        "id": "ZxQ3TcBVOnn7",
        "outputId": "bbd8a936-e754-492e-c833-08ba5e317881",
        "colab": {
          "base_uri": "https://localhost:8080/"
        }
      },
      "source": [
        "model.fit(x=training_images, y=training_labels, batch_size=None, epochs=20, verbose=2, callbacks=[callbacks])"
      ],
      "execution_count": 34,
      "outputs": [
        {
          "output_type": "stream",
          "text": [
            "Epoch 1/20\n",
            "1875/1875 - 4s - loss: 0.4475 - accuracy: 0.8372\n",
            "Epoch 2/20\n",
            "1875/1875 - 4s - loss: 0.2981 - accuracy: 0.8906\n",
            "Epoch 3/20\n",
            "1875/1875 - 4s - loss: 0.2515 - accuracy: 0.9068\n",
            "Epoch 4/20\n",
            "1875/1875 - 4s - loss: 0.2208 - accuracy: 0.9172\n",
            "Epoch 5/20\n",
            "1875/1875 - 4s - loss: 0.1962 - accuracy: 0.9258\n",
            "Epoch 6/20\n",
            "1875/1875 - 4s - loss: 0.1712 - accuracy: 0.9364\n",
            "Epoch 7/20\n",
            "1875/1875 - 4s - loss: 0.1514 - accuracy: 0.9429\n",
            "Epoch 8/20\n",
            "1875/1875 - 4s - loss: 0.1324 - accuracy: 0.9498\n",
            "Epoch 9/20\n",
            "\n",
            "Reached 95% accuracy so cancelling training!\n",
            "1875/1875 - 4s - loss: 0.1170 - accuracy: 0.9566\n"
          ],
          "name": "stdout"
        },
        {
          "output_type": "execute_result",
          "data": {
            "text/plain": [
              "<tensorflow.python.keras.callbacks.History at 0x7f60941d10f0>"
            ]
          },
          "metadata": {
            "tags": []
          },
          "execution_count": 34
        }
      ]
    },
    {
      "cell_type": "code",
      "metadata": {
        "id": "mLED8ychR5lW",
        "outputId": "6ad6bb51-4f59-4a81-c3e2-4fda474c17a3",
        "colab": {
          "base_uri": "https://localhost:8080/"
        }
      },
      "source": [
        "model.evaluate(test_images, test_labels)"
      ],
      "execution_count": 35,
      "outputs": [
        {
          "output_type": "stream",
          "text": [
            "313/313 [==============================] - 1s 2ms/step - loss: 0.2724 - accuracy: 0.9082\n"
          ],
          "name": "stdout"
        },
        {
          "output_type": "execute_result",
          "data": {
            "text/plain": [
              "[0.27236005663871765, 0.9082000255584717]"
            ]
          },
          "metadata": {
            "tags": []
          },
          "execution_count": 35
        }
      ]
    },
    {
      "cell_type": "code",
      "metadata": {
        "id": "COZSiK0KTwlh"
      },
      "source": [
        "from tensorflow.keras import models\n",
        "layer_outputs = [layer.output for layer in model.layers]"
      ],
      "execution_count": 36,
      "outputs": []
    },
    {
      "cell_type": "code",
      "metadata": {
        "id": "2JikPBtWyu39",
        "outputId": "8fdb6b31-cd3d-46d9-c5fe-129f4ceb55eb",
        "colab": {
          "base_uri": "https://localhost:8080/"
        }
      },
      "source": [
        "layer_outputs"
      ],
      "execution_count": 37,
      "outputs": [
        {
          "output_type": "execute_result",
          "data": {
            "text/plain": [
              "[<tf.Tensor 'conv2d_4/Relu:0' shape=(None, 26, 26, 64) dtype=float32>,\n",
              " <tf.Tensor 'max_pooling2d_4/MaxPool:0' shape=(None, 13, 13, 64) dtype=float32>,\n",
              " <tf.Tensor 'conv2d_5/Relu:0' shape=(None, 11, 11, 64) dtype=float32>,\n",
              " <tf.Tensor 'max_pooling2d_5/MaxPool:0' shape=(None, 5, 5, 64) dtype=float32>,\n",
              " <tf.Tensor 'flatten_2/Reshape:0' shape=(None, 1600) dtype=float32>,\n",
              " <tf.Tensor 'dense_4/Relu:0' shape=(None, 128) dtype=float32>,\n",
              " <tf.Tensor 'dense_5/Softmax:0' shape=(None, 10) dtype=float32>]"
            ]
          },
          "metadata": {
            "tags": []
          },
          "execution_count": 37
        }
      ]
    },
    {
      "cell_type": "code",
      "metadata": {
        "id": "ljMOm_Ciyw5d"
      },
      "source": [
        "activation_model = tf.keras.models.Model(inputs = model.input, outputs = layer_outputs)"
      ],
      "execution_count": 11,
      "outputs": []
    },
    {
      "cell_type": "code",
      "metadata": {
        "id": "kCjGWp4pzElV"
      },
      "source": [
        "image_pred = activation_model.predict(test_images[1].reshape(1, 28, 28, 1))"
      ],
      "execution_count": 13,
      "outputs": []
    },
    {
      "cell_type": "code",
      "metadata": {
        "id": "uQSBYmWKzcel",
        "outputId": "b86df3ef-727a-47e7-bd8c-766a2b410b9f",
        "colab": {
          "base_uri": "https://localhost:8080/",
          "height": 268
        }
      },
      "source": [
        "import matplotlib.pyplot as plt\n",
        "f, axarr = plt.subplots(3,4)\n",
        "FIRST_IMAGE=0\n",
        "SECOND_IMAGE=6\n",
        "THIRD_IMAGE=25\n",
        "CONVOLUTION_NUMBER = 1\n",
        "from tensorflow.keras import models\n",
        "layer_outputs = [layer.output for layer in model.layers]\n",
        "activation_model = tf.keras.models.Model(inputs = model.input, outputs = layer_outputs)\n",
        "for x in range(0,4):\n",
        "  f1 = activation_model.predict(test_images[FIRST_IMAGE].reshape(1, 28, 28, 1))[x]\n",
        "  axarr[0,x].imshow(f1[0, : , :, CONVOLUTION_NUMBER], cmap='inferno')\n",
        "  axarr[0,x].grid(False)\n",
        "  f2 = activation_model.predict(test_images[SECOND_IMAGE].reshape(1, 28, 28, 1))[x]\n",
        "  axarr[1,x].imshow(f2[0, : , :, CONVOLUTION_NUMBER], cmap='inferno')\n",
        "  axarr[1,x].grid(False)\n",
        "  f3 = activation_model.predict(test_images[THIRD_IMAGE].reshape(1, 28, 28, 1))[x]\n",
        "  axarr[2,x].imshow(f3[0, : , :, CONVOLUTION_NUMBER], cmap='inferno')\n",
        "  axarr[2,x].grid(False)"
      ],
      "execution_count": 19,
      "outputs": [
        {
          "output_type": "display_data",
          "data": {
            "image/png": "[encoded data removed]",
            "text/plain": [
              "<Figure size 432x288 with 12 Axes>"
            ]
          },
          "metadata": {
            "tags": [],
            "needs_background": "light"
          }
        }
      ]
    },
    {
      "cell_type": "code",
      "metadata": {
        "id": "btrYbJ9Kzj5F"
      },
      "source": [
        ""
      ],
      "execution_count": null,
      "outputs": []
    }
  ]
}