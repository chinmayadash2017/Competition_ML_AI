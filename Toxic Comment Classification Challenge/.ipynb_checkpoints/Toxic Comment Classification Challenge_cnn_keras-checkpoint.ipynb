{
 "cells": [
  {
   "cell_type": "markdown",
   "metadata": {},
   "source": [
    "Identify and classify toxic online comments"
   ]
  },
  {
   "cell_type": "markdown",
   "metadata": {},
   "source": [
    "Implimentation summery: (Will devlope with code progress)\n",
    "Basic top level architecture, which i have thought to impliment: step-1:-cnn network for feature extraction, step-2: connect to dense layer, step-3:- output from dense layer will connect to 6 binary classification at output layer. Since more than one label out of six labels (toxic, severe_toxic, obscene, threat, insult, identity_hate) can present in a comment."
   ]
  },
  {
   "cell_type": "code",
   "execution_count": 280,
   "metadata": {},
   "outputs": [],
   "source": [
    "import os\n",
    "import sys\n",
    "import pandas as pd\n",
    "import numpy as np\n",
    "import matplotlib.pyplot as plt\n",
    "from keras.preprocessing.text import Tokenizer\n",
    "from keras.preprocessing.sequence import pad_sequences\n",
    "from keras.layers import Dense, Input, GlobalMaxPooling1D\n",
    "from keras.layers import Conv1D, MaxPooling1D, Embedding\n",
    "from keras.models import Model\n",
    "from sklearn.metrics import roc_auc_score"
   ]
  },
  {
   "cell_type": "code",
   "execution_count": 283,
   "metadata": {
    "collapsed": true
   },
   "outputs": [],
   "source": [
    "# hyperparameters\n",
    "max_sequence_len = 100\n",
    "max_vocab_size = 20000\n",
    "embedding_dim = 100\n",
    "batch_size = 120\n",
    "epochs = 10\n",
    "validation_split = 0.2"
   ]
  },
  {
   "cell_type": "code",
   "execution_count": 159,
   "metadata": {
    "collapsed": true
   },
   "outputs": [],
   "source": [
    "# loading the glove vector, that return a word and vec pairs in dict"
   ]
  },
  {
   "cell_type": "code",
   "execution_count": 250,
   "metadata": {
    "collapsed": true
   },
   "outputs": [],
   "source": [
    "def load_glove_vec(path, embedding_dim = 100):\n",
    "   word2vec = {}\n",
    "   with open(path + \"/\" +'glove.6B.{}d.txt'.format(embedding_dim), encoding=\"utf8\") as file:\n",
    "       for line in file:\n",
    "           values = line.split()\n",
    "           word = values[0]\n",
    "           vec = np.asarray(values[1:], dtype = 'float32')\n",
    "           word2vec[word] = vec\n",
    "   print(\"Number of words found in word2vec: {}\".format(len(word2vec)))\n",
    "   return word2vec"
   ]
  },
  {
   "cell_type": "code",
   "execution_count": 251,
   "metadata": {
    "collapsed": true
   },
   "outputs": [],
   "source": [
    "globe_path = \"D:/ML_Python/udemy/lazzy_programmer/large_files\""
   ]
  },
  {
   "cell_type": "code",
   "execution_count": 252,
   "metadata": {},
   "outputs": [
    {
     "name": "stdout",
     "output_type": "stream",
     "text": [
      "Number of words found in word2vec: 400000\n"
     ]
    }
   ],
   "source": [
    "word2vec = load_glove_vec(globe_path)"
   ]
  },
  {
   "cell_type": "code",
   "execution_count": 253,
   "metadata": {
    "collapsed": true
   },
   "outputs": [],
   "source": [
    "# Loading training data\n",
    "train = pd.read_csv(\"train.csv\")"
   ]
  },
  {
   "cell_type": "code",
   "execution_count": 254,
   "metadata": {},
   "outputs": [
    {
     "name": "stdout",
     "output_type": "stream",
     "text": [
      "shape of toxic train data (159571,8)\n",
      "columns names: id,comment_text,toxic,severe_toxic,obscene,threat,insult,identity_hate\n"
     ]
    }
   ],
   "source": [
    "print(\"shape of toxic train data ({},{})\".format(train.shape[0], train.shape[1]))\n",
    "print(\"columns names: %s\" %(\",\".join(train.columns.tolist())))"
   ]
  },
  {
   "cell_type": "code",
   "execution_count": 255,
   "metadata": {
    "collapsed": true
   },
   "outputs": [],
   "source": [
    "comments = train[\"comment_text\"].fillna(\"dummy_value\").values\n",
    "labels = [\"toxic\",\"severe_toxic\",\"obscene\",\"threat\",\"insult\",\"identity_hate\"]\n",
    "Y_train = train[labels].values"
   ]
  },
  {
   "cell_type": "code",
   "execution_count": 256,
   "metadata": {},
   "outputs": [
    {
     "data": {
      "text/plain": [
       "\"Explanation\\nWhy the edits made under my username Hardcore Metallica Fan were reverted? They weren't vandalisms, just closure on some GAs after I voted at New York Dolls FAC. And please don't remove the template from the talk page since I'm retired now.89.205.38.27\""
      ]
     },
     "execution_count": 256,
     "metadata": {},
     "output_type": "execute_result"
    }
   ],
   "source": [
    "comments[0]"
   ]
  },
  {
   "cell_type": "code",
   "execution_count": 257,
   "metadata": {
    "collapsed": true
   },
   "outputs": [],
   "source": [
    "small_comments = [s.split() for s in comments]\n",
    "small_comments = [small for small in small_comments if len(small) <= 5]"
   ]
  },
  {
   "cell_type": "code",
   "execution_count": 258,
   "metadata": {},
   "outputs": [
    {
     "name": "stdout",
     "output_type": "stream",
     "text": [
      "max sequence length: 1411\n",
      "min sequence length: 1\n",
      "sequence_len_median:36\n"
     ]
    }
   ],
   "source": [
    "sequence_len = sorted([len(s.split()) for s in comments])\n",
    "print(\"max sequence length: %d\"%(max(sequence_len)))\n",
    "print(\"min sequence length: %d\"%(min(sequence_len)))\n",
    "sentence_len_median = np.median(np.array(sequence_len))\n",
    "print(\"sequence_len_median:%d\" %int(sentence_len_median))"
   ]
  },
  {
   "cell_type": "code",
   "execution_count": 259,
   "metadata": {
    "collapsed": true
   },
   "outputs": [],
   "source": [
    "# convert sentences (text) into integer (vacabulary intex)"
   ]
  },
  {
   "cell_type": "code",
   "execution_count": 260,
   "metadata": {},
   "outputs": [],
   "source": [
    "tokenizer = Tokenizer(num_words = max_vocab_size)\n",
    "tokenizer.fit_on_texts(comments)\n",
    "sequences = tokenizer.texts_to_sequences(comments)"
   ]
  },
  {
   "cell_type": "code",
   "execution_count": 261,
   "metadata": {
    "collapsed": true
   },
   "outputs": [],
   "source": [
    "# store the word and rank(index) mapping using \"word_index\" attribute of text_processing keras"
   ]
  },
  {
   "cell_type": "code",
   "execution_count": 262,
   "metadata": {},
   "outputs": [
    {
     "name": "stdout",
     "output_type": "stream",
     "text": [
      "size of vocabulary: 210337\n"
     ]
    }
   ],
   "source": [
    "word2idx = tokenizer.word_index\n",
    "print(\"size of vocabulary: %d\" %(len(word2idx)))"
   ]
  },
  {
   "cell_type": "code",
   "execution_count": 263,
   "metadata": {
    "collapsed": true
   },
   "outputs": [],
   "source": [
    "# pad sequence, it maintain the equal length and converts to (m,max_sequence_len ), where m is number of observations"
   ]
  },
  {
   "cell_type": "code",
   "execution_count": 264,
   "metadata": {},
   "outputs": [
    {
     "name": "stdout",
     "output_type": "stream",
     "text": [
      "shape of data: (159571, 100)\n"
     ]
    }
   ],
   "source": [
    "data = pad_sequences(sequences, maxlen = max_sequence_len)\n",
    "print(\"shape of data:\", data.shape)"
   ]
  },
  {
   "cell_type": "code",
   "execution_count": 276,
   "metadata": {
    "collapsed": true
   },
   "outputs": [],
   "source": [
    "# prepare embedding matrix\n",
    "# glove word2vec, word2idx dict and max_vocab_size as argument\n",
    "# return word embedding matrix of shape (vocab_size, embedding dim)"
   ]
  },
  {
   "cell_type": "code",
   "execution_count": 273,
   "metadata": {},
   "outputs": [],
   "source": [
    "def prepare_embedding_matrix(word2vec, word2idx, EMBEDDING_DIM, max_vocab_size = 20000):\n",
    "    num_words = min(max_vocab_size, len(word2idx))\n",
    "    embedding_matrix = np.zeros((num_words, EMBEDDING_DIM))\n",
    "    for word, idx in word2idx.items():\n",
    "        if idx < max_vocab_size:\n",
    "            embedding_vec = word2vec.get(word)\n",
    "            if embedding_vec is not None:\n",
    "                embedding_matrix[idx] = embedding_vec\n",
    "    return embedding_matrix"
   ]
  },
  {
   "cell_type": "code",
   "execution_count": 274,
   "metadata": {},
   "outputs": [],
   "source": [
    "embedding_matrix = prepare_embedding_matrix(word2vec, word2idx, embedding_dim, max_vocab_size = 20000)"
   ]
  },
  {
   "cell_type": "code",
   "execution_count": 277,
   "metadata": {},
   "outputs": [
    {
     "name": "stdout",
     "output_type": "stream",
     "text": [
      "shape of embedding matrix: (20000, 100)\n"
     ]
    }
   ],
   "source": [
    "print(\"shape of embedding matrix:\", embedding_matrix.shape)"
   ]
  },
  {
   "cell_type": "code",
   "execution_count": 279,
   "metadata": {},
   "outputs": [],
   "source": [
    "# load pre-trained word embeddings into an Embedding layer\n",
    "# note that we set trainable = False so as to keep the embeddings fixed\n",
    "embedding_layer = Embedding(\n",
    "  num_words,\n",
    "  embedding_dim,\n",
    "  weights=[embedding_matrix],\n",
    "  input_length=max_sequence_len,\n",
    "  trainable=False)"
   ]
  },
  {
   "cell_type": "code",
   "execution_count": 282,
   "metadata": {},
   "outputs": [
    {
     "name": "stdout",
     "output_type": "stream",
     "text": [
      "Building model...\n"
     ]
    }
   ],
   "source": [
    "print('Building model...')\n",
    "\n",
    "# train a 1D convnet with global maxpooling\n",
    "input_ = Input(shape=(max_sequence_len,))\n",
    "x = embedding_layer(input_)\n",
    "x = Conv1D(128, 3, activation='relu')(x)\n",
    "x = MaxPooling1D(3)(x)\n",
    "x = Conv1D(128, 3, activation='relu')(x)\n",
    "x = MaxPooling1D(3)(x)\n",
    "x = Conv1D(128, 3, activation='relu')(x)\n",
    "x = GlobalMaxPooling1D()(x)\n",
    "x = Dense(128, activation='relu')(x)\n",
    "output = Dense(len(labels), activation='sigmoid')(x)\n",
    "\n",
    "model = Model(input_, output)\n",
    "model.compile(\n",
    "  loss='binary_crossentropy',\n",
    "  optimizer='rmsprop',\n",
    "  metrics=['accuracy']\n",
    ")"
   ]
  },
  {
   "cell_type": "code",
   "execution_count": 285,
   "metadata": {},
   "outputs": [
    {
     "name": "stdout",
     "output_type": "stream",
     "text": [
      "Training model...\n",
      "Train on 127656 samples, validate on 31915 samples\n",
      "Epoch 1/10\n",
      "127656/127656 [==============================] - 230s 2ms/step - loss: 0.0834 - acc: 0.9731 - val_loss: 0.0796 - val_acc: 0.9755\n",
      "Epoch 2/10\n",
      "127656/127656 [==============================] - 220s 2ms/step - loss: 0.0675 - acc: 0.9774 - val_loss: 0.0781 - val_acc: 0.9762\n",
      "Epoch 3/10\n",
      "127656/127656 [==============================] - 215s 2ms/step - loss: 0.0636 - acc: 0.9783 - val_loss: 0.0688 - val_acc: 0.9772\n",
      "Epoch 4/10\n",
      "127656/127656 [==============================] - 217s 2ms/step - loss: 0.0607 - acc: 0.9790 - val_loss: 0.0726 - val_acc: 0.9775\n",
      "Epoch 5/10\n",
      "127656/127656 [==============================] - 225s 2ms/step - loss: 0.0586 - acc: 0.9795 - val_loss: 0.0710 - val_acc: 0.9777\n",
      "Epoch 6/10\n",
      "127656/127656 [==============================] - 214s 2ms/step - loss: 0.0572 - acc: 0.9800 - val_loss: 0.0703 - val_acc: 0.9769\n",
      "Epoch 7/10\n",
      "127656/127656 [==============================] - 221s 2ms/step - loss: 0.0559 - acc: 0.9806 - val_loss: 0.0726 - val_acc: 0.9770\n",
      "Epoch 8/10\n",
      "127656/127656 [==============================] - 220s 2ms/step - loss: 0.0551 - acc: 0.9805 - val_loss: 0.0734 - val_acc: 0.9766\n",
      "Epoch 9/10\n",
      "127656/127656 [==============================] - 229s 2ms/step - loss: 0.0540 - acc: 0.9809 - val_loss: 0.0883 - val_acc: 0.9764\n",
      "Epoch 10/10\n",
      "127656/127656 [==============================] - 226s 2ms/step - loss: 0.0534 - acc: 0.9813 - val_loss: 0.0781 - val_acc: 0.9764\n"
     ]
    }
   ],
   "source": [
    "print('Training model...')\n",
    "r = model.fit(\n",
    "  data,\n",
    "  Y_train,\n",
    "  batch_size=batch_size,\n",
    "  epochs=epochs,\n",
    "  validation_split= validation_split\n",
    ")"
   ]
  },
  {
   "cell_type": "code",
   "execution_count": 288,
   "metadata": {
    "collapsed": true
   },
   "outputs": [],
   "source": [
    "model.save_weights('toxic_cnn_keras_weights.h5')"
   ]
  },
  {
   "cell_type": "code",
   "execution_count": 295,
   "metadata": {
    "collapsed": true
   },
   "outputs": [],
   "source": [
    "import json\n",
    "# Get the dictionary containing each metric and the loss for each epoch\n",
    "toxic_cnn_keras_history = r.history\n",
    "# Save it under the form of a json file\n",
    "json.dump(toxic_cnn_keras_history, open(\"toxic_cnn_keras_history.json\", 'w'))"
   ]
  },
  {
   "cell_type": "code",
   "execution_count": 296,
   "metadata": {},
   "outputs": [
    {
     "data": {
      "image/png": "[encoded data removed]",
      "text/plain": [
       "<Figure size 432x288 with 1 Axes>"
      ]
     },
     "metadata": {},
     "output_type": "display_data"
    }
   ],
   "source": [
    "# loss\n",
    "plt.plot(r.history['loss'], label='loss')\n",
    "plt.plot(r.history['val_loss'], label='val_loss')\n",
    "plt.legend()\n",
    "plt.show()"
   ]
  },
  {
   "cell_type": "code",
   "execution_count": 297,
   "metadata": {},
   "outputs": [
    {
     "data": {
      "image/png": "[encoded data removed]",
      "text/plain": [
       "<Figure size 432x288 with 1 Axes>"
      ]
     },
     "metadata": {},
     "output_type": "display_data"
    }
   ],
   "source": [
    "# accuracies plot\n",
    "plt.plot(r.history['acc'], label='acc')\n",
    "plt.plot(r.history['val_acc'], label='val_acc')\n",
    "plt.legend()\n",
    "plt.show()"
   ]
  },
  {
   "cell_type": "code",
   "execution_count": 299,
   "metadata": {},
   "outputs": [
    {
     "name": "stdout",
     "output_type": "stream",
     "text": [
      "0.9723303100200072\n"
     ]
    }
   ],
   "source": [
    "# plot the mean AUC over each label\n",
    "p = model.predict(data)\n",
    "aucs = []\n",
    "for j in range(6):\n",
    "    auc = roc_auc_score(Y_train[:,j], p[:,j])\n",
    "    aucs.append(auc)\n",
    "print(np.mean(aucs))"
   ]
  },
  {
   "cell_type": "code",
   "execution_count": null,
   "metadata": {
    "collapsed": true
   },
   "outputs": [],
   "source": []
  }
 ],
 "metadata": {
  "kernelspec": {
   "display_name": "Python 3",
   "language": "python",
   "name": "python3"
  },
  "language_info": {
   "codemirror_mode": {
    "name": "ipython",
    "version": 3
   },
   "file_extension": ".py",
   "mimetype": "text/x-python",
   "name": "python",
   "nbconvert_exporter": "python",
   "pygments_lexer": "ipython3",
   "version": "3.5.4"
  }
 },
 "nbformat": 4,
 "nbformat_minor": 2
}
